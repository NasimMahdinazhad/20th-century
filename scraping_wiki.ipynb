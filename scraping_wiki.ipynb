{
 "cells": [
  {
   "cell_type": "code",
   "execution_count": 67,
   "id": "851eaf85-5cbe-43f6-b38a-845252ef668a",
   "metadata": {},
   "outputs": [],
   "source": [
    "# Import libraries\n",
    "\n",
    "import pandas as pd\n",
    "import time\n",
    "from selenium import webdriver\n",
    "from webdriver_manager.chrome import ChromeDriverManager\n",
    "from selenium.webdriver.common.by import By\n",
    "from selenium.webdriver.chrome.service import Service\n",
    "from selenium import webdriver\n",
    "from selenium.webdriver.chrome.options import Options\n",
    "import matplotlib.pyplot as plt\n",
    "import os\n",
    "import logging\n",
    "import requests\n",
    "import bs4"
   ]
  },
  {
   "cell_type": "markdown",
   "id": "07211df7-4e5b-433e-afc6-39fd0e73ef9c",
   "metadata": {},
   "source": [
    "### Scrapin country lists"
   ]
  },
  {
   "cell_type": "code",
   "execution_count": 68,
   "id": "5f9473f8-78ec-45a6-9ea2-63657358f26b",
   "metadata": {},
   "outputs": [],
   "source": [
    "# Setup chrome options\n",
    "chrome_options = Options()\n",
    "# chrome_options.add_argument(\"--headless\")   # disable this if you want to SEE the browser\n",
    "chrome_options.add_argument(\"--no-sandbox\")\n",
    "\n",
    "# Install Chrome driver manager\n",
    "service = Service(ChromeDriverManager().install())\n",
    "\n",
    "# Create driver using service + options (correct modern way)\n",
    "driver = webdriver.Chrome(service=service, options=chrome_options)"
   ]
  },
  {
   "cell_type": "code",
   "execution_count": 77,
   "id": "2e20bdb1-91e3-43ca-82e5-8fa28dec818d",
   "metadata": {},
   "outputs": [],
   "source": [
    "# Get the page's contents\n",
    "\n",
    "page_url = \"https://simple.m.wikipedia.org/wiki/List_of_countries\"\n",
    "driver.get(page_url)"
   ]
  },
  {
   "cell_type": "code",
   "execution_count": 78,
   "id": "d12bcce3-4c2d-45e8-8c2a-8156f8f22331",
   "metadata": {},
   "outputs": [],
   "source": [
    "# Create a collection of the characters\n",
    "\n",
    "character_elems = driver.find_elements(by=By.CLASS_NAME, value=\"mf-section-1\")"
   ]
  },
  {
   "cell_type": "code",
   "execution_count": 79,
   "id": "be726a50-e283-4b77-9ed8-f6da9ceca853",
   "metadata": {
    "scrolled": true
   },
   "outputs": [
    {
     "data": {
      "text/plain": [
       "\"A\\n Afghanistan –  Albania –  Algeria –  Andorra –  Angola –  Antigua and Barbuda –  Argentina –  Armenia –  Australia –  Austria –  Azerbaijan\\nB\\n Bahamas –  Bahrain –  Bangladesh –  Barbados –  Belarus –  Belgium –  Belize –  Benin –  Bhutan –  Bolivia –  Bosnia and Herzegovina –  Botswana –  Brazil –  Brunei –  Bulgaria –  Burkina Faso –  Burundi\\nC\\n Cabo Verde –  Cambodia –  Cameroon –  Canada –  Central African Republic –  Chad –  Chile –  China –  Colombia –  Comoros –  Costa Rica –  Côte d'Ivoire –  Croatia –  Cuba –  Cyprus –  Czechia\\nD\\n Democratic Republic of the Congo –  Denmark –  Djibouti –  Dominica –  Dominican Republic\\nE\\n Ecuador –  Egypt –  El Salvador –  Equatorial Guinea –  Eritrea –  Estonia –  Eswatini –  Ethiopia\\nF\\n Fiji –  Finland –  France\\nG\\n  Gabon –   Gambia –   Georgia –   Germany –   Ghana –   Greece –   Grenada –   Guatemala –   Guinea –   Guinea-Bissau –   Guyana\\nH\\n  Haiti –   Honduras –   Hungary\\nI\\n  Iceland –   India –   Indonesia –   Iran –   Iraq –   Ireland –   Israel –   Italy\\nJ\\n  Jamaica –   Japan –   Jordan\\nK\\n  Kazakhstan –   Kenya –   Kiribati –   Kuwait –   Kyrgyzstan\\nL\\n  Laos –   Latvia –   Lebanon –   Lesotho –   Liberia –   Libya –   Liechtenstein –   Lithuania –   Luxembourg\\nM\\n  Madagascar –   Malawi –   Malaysia –   Maldives –   Mali –   Malta –   Marshall Islands –   Mauritania –   Mauritius –   Mexico –   Micronesia –   Moldova –   Monaco –   Mongolia –   Montenegro –   Morocco –   Mozambique –   Myanmar\\nN\\n  Namibia –   Nauru –     Nepal –   Netherlands –   New Zealand –   Nicaragua –   Niger –   Nigeria –   North Macedonia –   North Korea –   Norway\\nO\\n  Oman\\nP\\n  Pakistan –   Palau –   Palestine –   Panama –   Papua New Guinea –   Paraguay –   Peru –   Philippines –   Poland –   Portugal\\nQ\\n  Qatar\\nR\\n  Republic of the Congo –   Romania –   Russia –   Rwanda\\nS\\n  Saint Kitts and Nevis –   Saint Lucia –   Saint Vincent and the Grenadines –   Samoa –   San Marino –   São Tomé and Príncipe –   Saudi Arabia –   Senegal –   Serbia –   Seychelles –   Sierra Leone –   Singapore –   Slovakia –   Slovenia –   Solomon Islands –   Somalia –   South Africa –   South Korea –   South Sudan –   Spain –   Sri Lanka –   Sudan –   Suriname –   Sweden –    Switzerland –   Syria\\nT\\n  Tajikistan –   Tanzania –   Thailand –   Timor Leste –   Togo –   Tonga –   Trinidad and Tobago –   Tunisia –   Türkiye –   Turkmenistan –   Tuvalu\\nU\\n  Uganda –   Ukraine –   United Arab Emirates –   United Kingdom –   United States –   Uruguay –   Uzbekistan\\nV\\n  Vanuatu –    Vatican City –   Venezuela –   Vietnam\\nY\\n  Yemen\\nZ\\n  Zambia –   Zimbabwe\""
      ]
     },
     "execution_count": 79,
     "metadata": {},
     "output_type": "execute_result"
    }
   ],
   "source": [
    "# To see the first element in the object\n",
    "character_elems[0].text"
   ]
  },
  {
   "cell_type": "code",
   "execution_count": 81,
   "id": "54f1d156-0a3f-44ac-8713-b6a084361c0b",
   "metadata": {},
   "outputs": [
    {
     "data": {
      "text/plain": [
       "['A',\n",
       " ' Afghanistan –  Albania –  Algeria –  Andorra –  Angola –  Antigua and Barbuda –  Argentina –  Armenia –  Australia –  Austria –  Azerbaijan',\n",
       " 'B',\n",
       " ' Bahamas –  Bahrain –  Bangladesh –  Barbados –  Belarus –  Belgium –  Belize –  Benin –  Bhutan –  Bolivia –  Bosnia and Herzegovina –  Botswana –  Brazil –  Brunei –  Bulgaria –  Burkina Faso –  Burundi',\n",
       " 'C',\n",
       " \" Cabo Verde –  Cambodia –  Cameroon –  Canada –  Central African Republic –  Chad –  Chile –  China –  Colombia –  Comoros –  Costa Rica –  Côte d'Ivoire –  Croatia –  Cuba –  Cyprus –  Czechia\",\n",
       " 'D',\n",
       " ' Democratic Republic of the Congo –  Denmark –  Djibouti –  Dominica –  Dominican Republic',\n",
       " 'E',\n",
       " ' Ecuador –  Egypt –  El Salvador –  Equatorial Guinea –  Eritrea –  Estonia –  Eswatini –  Ethiopia',\n",
       " 'F',\n",
       " ' Fiji –  Finland –  France',\n",
       " 'G',\n",
       " '  Gabon –   Gambia –   Georgia –   Germany –   Ghana –   Greece –   Grenada –   Guatemala –   Guinea –   Guinea-Bissau –   Guyana',\n",
       " 'H',\n",
       " '  Haiti –   Honduras –   Hungary',\n",
       " 'I',\n",
       " '  Iceland –   India –   Indonesia –   Iran –   Iraq –   Ireland –   Israel –   Italy',\n",
       " 'J',\n",
       " '  Jamaica –   Japan –   Jordan',\n",
       " 'K',\n",
       " '  Kazakhstan –   Kenya –   Kiribati –   Kuwait –   Kyrgyzstan',\n",
       " 'L',\n",
       " '  Laos –   Latvia –   Lebanon –   Lesotho –   Liberia –   Libya –   Liechtenstein –   Lithuania –   Luxembourg',\n",
       " 'M',\n",
       " '  Madagascar –   Malawi –   Malaysia –   Maldives –   Mali –   Malta –   Marshall Islands –   Mauritania –   Mauritius –   Mexico –   Micronesia –   Moldova –   Monaco –   Mongolia –   Montenegro –   Morocco –   Mozambique –   Myanmar',\n",
       " 'N',\n",
       " '  Namibia –   Nauru –     Nepal –   Netherlands –   New Zealand –   Nicaragua –   Niger –   Nigeria –   North Macedonia –   North Korea –   Norway',\n",
       " 'O',\n",
       " '  Oman',\n",
       " 'P',\n",
       " '  Pakistan –   Palau –   Palestine –   Panama –   Papua New Guinea –   Paraguay –   Peru –   Philippines –   Poland –   Portugal',\n",
       " 'Q',\n",
       " '  Qatar',\n",
       " 'R',\n",
       " '  Republic of the Congo –   Romania –   Russia –   Rwanda',\n",
       " 'S',\n",
       " '  Saint Kitts and Nevis –   Saint Lucia –   Saint Vincent and the Grenadines –   Samoa –   San Marino –   São Tomé and Príncipe –   Saudi Arabia –   Senegal –   Serbia –   Seychelles –   Sierra Leone –   Singapore –   Slovakia –   Slovenia –   Solomon Islands –   Somalia –   South Africa –   South Korea –   South Sudan –   Spain –   Sri Lanka –   Sudan –   Suriname –   Sweden –    Switzerland –   Syria',\n",
       " 'T',\n",
       " '  Tajikistan –   Tanzania –   Thailand –   Timor Leste –   Togo –   Tonga –   Trinidad and Tobago –   Tunisia –   Türkiye –   Turkmenistan –   Tuvalu',\n",
       " 'U',\n",
       " '  Uganda –   Ukraine –   United Arab Emirates –   United Kingdom –   United States –   Uruguay –   Uzbekistan',\n",
       " 'V',\n",
       " '  Vanuatu –    Vatican City –   Venezuela –   Vietnam',\n",
       " 'Y',\n",
       " '  Yemen',\n",
       " 'Z',\n",
       " '  Zambia –   Zimbabwe']"
      ]
     },
     "execution_count": 81,
     "metadata": {},
     "output_type": "execute_result"
    }
   ],
   "source": [
    "# To separate these characters by the \\n indicator\n",
    "list_char = character_elems[0].text.split(\"\\n\")\n",
    "list_char"
   ]
  },
  {
   "cell_type": "code",
   "execution_count": 89,
   "id": "2340b12e-3f0e-4b2d-b022-1a6d640dc503",
   "metadata": {},
   "outputs": [],
   "source": [
    "#To create a data frame with category and country columns\n",
    "\n",
    "records = []\n",
    "\n",
    "# loop in steps of 2 (category, countries string)\n",
    "for i in range(0, len(list_char), 2):\n",
    "    category = list_char[i].strip()\n",
    "    countries_str = list_char[i+1]\n",
    "    countries = [c.strip() for c in countries_str.split(\"–\") if c.strip()]\n",
    "    for country in countries:\n",
    "        records.append({\"Category\": category, \"Country\": country})\n",
    "\n",
    "# Create dataframe\n",
    "df = pd.DataFrame(records)\n"
   ]
  },
  {
   "cell_type": "code",
   "execution_count": 90,
   "id": "a5ec87b2-9ed7-4bc5-962f-eb94131a2cc4",
   "metadata": {},
   "outputs": [
    {
     "name": "stdout",
     "output_type": "stream",
     "text": [
      "   Category              Country\n",
      "0         A          Afghanistan\n",
      "1         A              Albania\n",
      "2         A              Algeria\n",
      "3         A              Andorra\n",
      "4         A               Angola\n",
      "5         A  Antigua and Barbuda\n",
      "6         A            Argentina\n",
      "7         A              Armenia\n",
      "8         A            Australia\n",
      "9         A              Austria\n",
      "10        A           Azerbaijan\n",
      "11        B              Bahamas\n",
      "12        B              Bahrain\n",
      "13        B           Bangladesh\n",
      "14        B             Barbados\n",
      "15        B              Belarus\n",
      "16        B              Belgium\n",
      "17        B               Belize\n",
      "18        B                Benin\n",
      "19        B               Bhutan\n"
     ]
    }
   ],
   "source": [
    "# Preview\n",
    "print(df.head(20))"
   ]
  },
  {
   "cell_type": "code",
   "execution_count": null,
   "id": "3f831724-e9cc-4aad-b805-9ae745dbf1a4",
   "metadata": {},
   "outputs": [],
   "source": [
    "# Put the characters into a dataframe\n",
    "\n",
    "df = pd.DataFrame(list_char, columns =  [\"character\"])"
   ]
  },
  {
   "cell_type": "code",
   "execution_count": 91,
   "id": "d7a78fd3-1356-44e4-83cd-aeb5d7a63da4",
   "metadata": {},
   "outputs": [],
   "source": [
    "# Save the dataframe as csv\n",
    "\n",
    "df.to_csv('country_list.csv')"
   ]
  },
  {
   "cell_type": "markdown",
   "id": "692e58c3-f6e5-4332-bafb-f20a1f74e3b3",
   "metadata": {},
   "source": [
    "### Scraping Wikipedia content with requests and bs4"
   ]
  },
  {
   "cell_type": "code",
   "execution_count": 2,
   "id": "c8e25a7a-5ec1-4053-bcc4-abbfc6321883",
   "metadata": {},
   "outputs": [],
   "source": [
    "import requests\n",
    "from bs4 import BeautifulSoup"
   ]
  },
  {
   "cell_type": "code",
   "execution_count": 39,
   "id": "41f4bd9e-5f41-4b27-87b9-c98c39655a25",
   "metadata": {},
   "outputs": [],
   "source": [
    "# Get URL\n",
    "\n",
    "# Add a User-Agent header so Wikipedia returns the real page\n",
    "headers = {\n",
    "    \"User-Agent\": \"Mozilla/5.0 (compatible; MyWikiScraper/1.0; +https://example.com/mybot)\"\n",
    "}\n",
    "\n",
    "# Get the URL\n",
    "page = requests.get(\"https://en.wikipedia.org/wiki/Key_events_of_the_20th_century\", headers=headers)\n"
   ]
  },
  {
   "cell_type": "code",
   "execution_count": 40,
   "id": "f83e52a9-baa8-4c27-b059-a46a3558c81c",
   "metadata": {},
   "outputs": [
    {
     "name": "stdout",
     "output_type": "stream",
     "text": [
      "<title>Key events of the 20th century - Wikipedia</title>\n"
     ]
    }
   ],
   "source": [
    "# Create soup and get title\n",
    "\n",
    "soup = BeautifulSoup(page.text, 'html.parser')\n",
    "print(soup.title)"
   ]
  },
  {
   "cell_type": "code",
   "execution_count": 41,
   "id": "7b423b31-9578-4f34-897b-6b2650d9284c",
   "metadata": {},
   "outputs": [],
   "source": [
    "text = soup.get_text()"
   ]
  },
  {
   "cell_type": "code",
   "execution_count": 42,
   "id": "9688a589-b5de-45b5-acbb-bf02093d971e",
   "metadata": {},
   "outputs": [],
   "source": [
    "text = text.encode('utf-8')"
   ]
  },
  {
   "cell_type": "code",
   "execution_count": 43,
   "id": "b7b93259-af5c-429b-a5b6-c170950f1719",
   "metadata": {},
   "outputs": [],
   "source": [
    "with open('20th_century_Wiki.txt', 'wb') as f: \n",
    "    f.write(text)"
   ]
  },
  {
   "cell_type": "code",
   "execution_count": null,
   "id": "62bb813b-09ef-447b-b22f-b77726e7d0ec",
   "metadata": {},
   "outputs": [],
   "source": []
  },
  {
   "cell_type": "code",
   "execution_count": null,
   "id": "ccbf0e47-aac3-4853-b844-2c100c11943b",
   "metadata": {},
   "outputs": [],
   "source": []
  }
 ],
 "metadata": {
  "kernelspec": {
   "display_name": "Python [conda env:20th_century]",
   "language": "python",
   "name": "conda-env-20th_century-py"
  },
  "language_info": {
   "codemirror_mode": {
    "name": "ipython",
    "version": 3
   },
   "file_extension": ".py",
   "mimetype": "text/x-python",
   "name": "python",
   "nbconvert_exporter": "python",
   "pygments_lexer": "ipython3",
   "version": "3.13.5"
  }
 },
 "nbformat": 4,
 "nbformat_minor": 5
}

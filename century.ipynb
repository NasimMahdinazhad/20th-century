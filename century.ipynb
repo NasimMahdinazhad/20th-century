{
 "cells": [
  {
   "cell_type": "code",
   "execution_count": 1,
   "id": "8fcc85eb-0127-439b-b27f-2195bbce0aea",
   "metadata": {},
   "outputs": [],
   "source": [
    "import sys"
   ]
  },
  {
   "cell_type": "markdown",
   "id": "b81bd33d-a66c-4620-8abf-9989537914d8",
   "metadata": {},
   "source": [
    "#### This command shows all the folders where Python is located on your computer\n",
    "##### it’s your global setup"
   ]
  },
  {
   "cell_type": "code",
   "execution_count": 2,
   "id": "1cb61a4b-fe5c-4eef-ab49-994de887d51a",
   "metadata": {},
   "outputs": [
    {
     "name": "stdout",
     "output_type": "stream",
     "text": [
      "['C:\\\\Users\\\\nasim\\\\anaconda3\\\\python313.zip', 'C:\\\\Users\\\\nasim\\\\anaconda3\\\\DLLs', 'C:\\\\Users\\\\nasim\\\\anaconda3\\\\Lib', 'C:\\\\Users\\\\nasim\\\\anaconda3', '', 'C:\\\\Users\\\\nasim\\\\anaconda3\\\\Lib\\\\site-packages', 'C:\\\\Users\\\\nasim\\\\anaconda3\\\\Lib\\\\site-packages\\\\win32', 'C:\\\\Users\\\\nasim\\\\anaconda3\\\\Lib\\\\site-packages\\\\win32\\\\lib', 'C:\\\\Users\\\\nasim\\\\anaconda3\\\\Lib\\\\site-packages\\\\Pythonwin']\n"
     ]
    }
   ],
   "source": [
    "print(sys.path)"
   ]
  },
  {
   "cell_type": "code",
   "execution_count": null,
   "id": "0b7ebe19-3113-4557-9c5d-91a49f80233c",
   "metadata": {},
   "outputs": [],
   "source": []
  }
 ],
 "metadata": {
  "kernelspec": {
   "display_name": "Python [conda env:base] *",
   "language": "python",
   "name": "conda-base-py"
  },
  "language_info": {
   "codemirror_mode": {
    "name": "ipython",
    "version": 3
   },
   "file_extension": ".py",
   "mimetype": "text/x-python",
   "name": "python",
   "nbconvert_exporter": "python",
   "pygments_lexer": "ipython3",
   "version": "3.13.5"
  }
 },
 "nbformat": 4,
 "nbformat_minor": 5
}
